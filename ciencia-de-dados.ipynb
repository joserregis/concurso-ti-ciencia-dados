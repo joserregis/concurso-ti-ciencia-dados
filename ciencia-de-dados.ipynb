{
 "cells": [
  {
   "cell_type": "code",
   "execution_count": 12,
   "id": "d0b97829",
   "metadata": {},
   "outputs": [],
   "source": [
    "def rank_calc (vitorias, derrotas):\n",
    "\n",
    "  rank = ['Ferro', 'Bronze', 'Prata', 'Ouro', 'Diamante', 'Lendário', 'Imortal']  \n",
    "\n",
    "  resultado = vitorias - derrotas\n",
    "\n",
    "  if resultado < 10:\n",
    "    nivel = rank[0]\n",
    "    print(f'Seu rank é: {nivel}')\n",
    "  \n",
    "  elif resultado >= 10 and resultado < 21:\n",
    "    nivel = rank[1]\n",
    "    print(f'Seu rank é: {nivel}')\n",
    "  elif resultado >= 21 and resultado < 51:\n",
    "    nivel = rank[2]\n",
    "    print(f'Seu rank é: {nivel}')\n",
    "  elif resultado >= 51 and resultado < 81:\n",
    "    nivel = rank[3]\n",
    "    print(f'Seu rank é: {nivel}')\n",
    "  elif resultado >= 81 and resultado < 91:\n",
    "    nivel = rank[4]\n",
    "    print(f'Seu rank é: {nivel}')\n",
    "  elif resultado >= 91 and resultado < 101:\n",
    "    nivel = rank[5]\n",
    "    print(f'Seu rank é: {nivel}')\n",
    "  else:\n",
    "    nivel = rank[6]\n",
    "    print(f'Seu rank é: {nivel}')\n"
   ]
  },
  {
   "cell_type": "code",
   "execution_count": 10,
   "id": "c27e7560",
   "metadata": {},
   "outputs": [
    {
     "name": "stdout",
     "output_type": "stream",
     "text": [
      "Seu rank é: Ferro\n"
     ]
    }
   ],
   "source": [
    "rank_calc(8, 3)"
   ]
  },
  {
   "cell_type": "code",
   "execution_count": 13,
   "id": "f9df0483",
   "metadata": {},
   "outputs": [
    {
     "name": "stdout",
     "output_type": "stream",
     "text": [
      "Seu rank é: Lendário\n"
     ]
    }
   ],
   "source": [
    "rank_calc(153, 58)"
   ]
  },
  {
   "cell_type": "code",
   "execution_count": null,
   "id": "39d2cad7",
   "metadata": {},
   "outputs": [],
   "source": []
  }
 ],
 "metadata": {
  "kernelspec": {
   "display_name": "PythonProject",
   "language": "python",
   "name": "python3"
  },
  "language_info": {
   "codemirror_mode": {
    "name": "ipython",
    "version": 3
   },
   "file_extension": ".py",
   "mimetype": "text/x-python",
   "name": "python",
   "nbconvert_exporter": "python",
   "pygments_lexer": "ipython3",
   "version": "3.12.9"
  }
 },
 "nbformat": 4,
 "nbformat_minor": 5
}
